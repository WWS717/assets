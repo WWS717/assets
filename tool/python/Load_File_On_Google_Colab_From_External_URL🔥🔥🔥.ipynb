{
  "nbformat": 4,
  "nbformat_minor": 0,
  "metadata": {
    "colab": {
      "name": "Load File On Google Colab From External URL🔥🔥🔥.ipynb",
      "provenance": []
    },
    "kernelspec": {
      "name": "python3",
      "display_name": "Python 3"
    },
    "language_info": {
      "name": "python"
    }
  },
  "cells": [
    {
      "cell_type": "markdown",
      "metadata": {
        "id": "gcfak2wkZHrT"
      },
      "source": [
        "# Welcome"
      ]
    },
    {
      "cell_type": "markdown",
      "metadata": {
        "id": "Nyty_pZYZKB4"
      },
      "source": [
        "## Collection of Helping Codes by Atharv Chaudhari"
      ]
    },
    {
      "cell_type": "markdown",
      "metadata": {
        "id": "KLgAnEJjZPho"
      },
      "source": [
        "### Code Below Will Download File From URL Directly Into to Colab Files Section For Temporary Use"
      ]
    },
    {
      "cell_type": "markdown",
      "metadata": {
        "id": "bnEcYKv9Z4uK"
      },
      "source": [
        "Your_URL = Replace This by Your URL"
      ]
    },
    {
      "cell_type": "code",
      "metadata": {
        "id": "uphuvrL0Y917"
      },
      "source": [
        "!wget Your_URL"
      ],
      "execution_count": null,
      "outputs": []
    },
    {
      "cell_type": "markdown",
      "metadata": {
        "id": "yBFxtpG9aFj1"
      },
      "source": [
        "---\n",
        "                                                                  Thank You\n",
        "---"
      ]
    }
  ]
}