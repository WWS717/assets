{
  "nbformat": 4,
  "nbformat_minor": 0,
  "metadata": {
    "colab": {
      "name": "Uploading_File_On_Drive_Directly_by_URL_🔥🔥🔥.ipynb",
      "provenance": [],
      "collapsed_sections": []
    },
    "kernelspec": {
      "name": "python3",
      "display_name": "Python 3"
    },
    "language_info": {
      "name": "python"
    }
  },
  "cells": [
    {
      "cell_type": "markdown",
      "metadata": {
        "id": "oYAiMtRzXfXa"
      },
      "source": [
        "# Welcome"
      ]
    },
    {
      "cell_type": "markdown",
      "metadata": {
        "id": "e025cxqGXw5I"
      },
      "source": [
        "## Collection of Helping Codes By Atharv Chaudhari"
      ]
    },
    {
      "cell_type": "markdown",
      "metadata": {
        "id": "jKGHJkaZWmdF"
      },
      "source": [
        "### Code below will help to upload file directly on google drive by url"
      ]
    },
    {
      "cell_type": "markdown",
      "metadata": {
        "id": "gt9VZGyoWuWX"
      },
      "source": [
        "Dir_URL = Replace Your directory url for this (its part in which directory you want to save your file)\n",
        "\n",
        "Your_File_URL = Replace This By Your URL From Which You Want To Upload Your File (including https://)"
      ]
    },
    {
      "cell_type": "code",
      "metadata": {
        "id": "AluAyT-uXd7E"
      },
      "source": [
        "!wget -P /content/drive/My\\ Drive/Dir_URL Your_File_URL"
      ],
      "execution_count": null,
      "outputs": []
    }
  ]
}