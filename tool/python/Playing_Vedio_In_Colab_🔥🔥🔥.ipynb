{
  "nbformat": 4,
  "nbformat_minor": 0,
  "metadata": {
    "colab": {
      "name": "Playing Vedio In Colab 🔥🔥🔥.ipynb",
      "provenance": []
    },
    "kernelspec": {
      "name": "python3",
      "display_name": "Python 3"
    },
    "language_info": {
      "name": "python"
    }
  },
  "cells": [
    {
      "cell_type": "markdown",
      "metadata": {
        "id": "iYam8c_SmRwc"
      },
      "source": [
        "# Welcome"
      ]
    },
    {
      "cell_type": "markdown",
      "metadata": {
        "id": "hSyDIfZbmZn1"
      },
      "source": [
        "## Collection of Helping Codes by Atharv Chaudhari"
      ]
    },
    {
      "cell_type": "markdown",
      "metadata": {
        "id": "Gdg0F0s8mcB4"
      },
      "source": [
        "### Below Code Will Help To Run Vedio File In Colab"
      ]
    },
    {
      "cell_type": "code",
      "metadata": {
        "id": "R_hwnoeqloug"
      },
      "source": [
        "from IPython.display import HTML\n",
        "\n",
        "HTML('<iframe width=\"560\" height=\"315\" src=\"PASTE_VEDIO_URL_HERE\" frameborder=\"0\" allow=\"accelerometer; autoplay; encrypted-media; gyroscope; picture-in-picture\" allowfullscreen></iframe>')"
      ],
      "execution_count": null,
      "outputs": []
    }
  ]
}