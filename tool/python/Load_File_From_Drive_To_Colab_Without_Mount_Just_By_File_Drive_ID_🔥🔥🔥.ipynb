{
  "nbformat": 4,
  "nbformat_minor": 0,
  "metadata": {
    "colab": {
      "name": "Load File From Drive To Colab Without Mount Just By File Drive ID 🔥🔥🔥.ipynb",
      "provenance": []
    },
    "kernelspec": {
      "name": "python3",
      "display_name": "Python 3"
    },
    "language_info": {
      "name": "python"
    }
  },
  "cells": [
    {
      "cell_type": "markdown",
      "metadata": {
        "id": "vf7mnYwxbkCL"
      },
      "source": [
        "# Welcome"
      ]
    },
    {
      "cell_type": "markdown",
      "metadata": {
        "id": "_kOD2jcubl6M"
      },
      "source": [
        "## Collection of Helping Codes By Atharv Chaudhari"
      ]
    },
    {
      "cell_type": "markdown",
      "metadata": {
        "id": "akCKcCsvb5jr"
      },
      "source": [
        "### This Code Will Fetch File From Google Drive To Colab By Using File's Drive ID"
      ]
    },
    {
      "cell_type": "markdown",
      "metadata": {
        "id": "qMIyl9qIbquC"
      },
      "source": [
        "yourFileIdHere = Replace This By Your File's Drive ID"
      ]
    },
    {
      "cell_type": "code",
      "metadata": {
        "id": "BuGMhADfbWfV"
      },
      "source": [
        "!gdown --id yourFileIdHere"
      ],
      "execution_count": null,
      "outputs": []
    },
    {
      "cell_type": "markdown",
      "metadata": {
        "id": "HHX0QKg5cEC6"
      },
      "source": [
        "---\n",
        "                                                                      Thank You\n",
        "---"
      ]
    }
  ]
}