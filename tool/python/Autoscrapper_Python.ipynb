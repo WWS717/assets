{
  "nbformat": 4,
  "nbformat_minor": 0,
  "metadata": {
    "colab": {
      "name": "Autoscrapper Python.ipynb",
      "provenance": []
    },
    "kernelspec": {
      "name": "python3",
      "display_name": "Python 3"
    },
    "language_info": {
      "name": "python"
    }
  },
  "cells": [
    {
      "cell_type": "code",
      "metadata": {
        "id": "4SCPNZg3keAW"
      },
      "source": [
        "#!pip install autoscraper"
      ],
      "execution_count": null,
      "outputs": []
    },
    {
      "cell_type": "code",
      "metadata": {
        "id": "1Slv34nBkBee"
      },
      "source": [
        "from autoscraper import AutoScraper"
      ],
      "execution_count": null,
      "outputs": []
    },
    {
      "cell_type": "code",
      "metadata": {
        "id": "eDBV7CCskWaN"
      },
      "source": [
        "url=\"https://www.amazon.in/s?k=iphones&ref=nb_sb_noss_2\"\n",
        "need_list=[\"₹50,999\",\"New Apple iPhone 11 (64GB) - Purple\",\"36,781\"]"
      ],
      "execution_count": null,
      "outputs": []
    },
    {
      "cell_type": "code",
      "metadata": {
        "colab": {
          "base_uri": "https://localhost:8080/"
        },
        "id": "akXoxuX0k4vt",
        "outputId": "bcf17040-d7a4-480f-df04-2ecc4144933c"
      },
      "source": [
        "scraper=AutoScraper()\n",
        "result=scraper.build(url,need_list)\n",
        "result"
      ],
      "execution_count": null,
      "outputs": [
        {
          "output_type": "execute_result",
          "data": {
            "text/plain": [
              "['₹50,999',\n",
              " '₹54,900',\n",
              " '₹72,999',\n",
              " '₹84,900',\n",
              " '₹1,18,999',\n",
              " '₹1,29,900',\n",
              " '₹55,999',\n",
              " '₹59,900',\n",
              " '₹56,999',\n",
              " '₹41,999',\n",
              " '₹47,900',\n",
              " '₹46,999',\n",
              " '₹52,900',\n",
              " '₹42,999',\n",
              " '₹14,499',\n",
              " '₹24,999',\n",
              " 'New Apple iPhone 11 (64GB) - Purple',\n",
              " 'Apple iPhone XR (64GB) - Black',\n",
              " '36,781',\n",
              " '5,526',\n",
              " '1,008',\n",
              " '235']"
            ]
          },
          "metadata": {},
          "execution_count": 4
        }
      ]
    },
    {
      "cell_type": "code",
      "metadata": {
        "colab": {
          "base_uri": "https://localhost:8080/"
        },
        "id": "IlaHlFwTlXHF",
        "outputId": "457c1897-3495-42b1-f7cd-563aa99cb00c"
      },
      "source": [
        "scraper.get_result_similar(url,grouped=True)"
      ],
      "execution_count": null,
      "outputs": [
        {
          "output_type": "execute_result",
          "data": {
            "text/plain": [
              "{'rule_04sd': ['36,781', '1,008'],\n",
              " 'rule_0p6r': ['₹50,999', '₹54,900', '₹41,999', '₹47,900'],\n",
              " 'rule_293n': ['₹50,999',\n",
              "  '₹54,900',\n",
              "  '₹1,18,999',\n",
              "  '₹1,29,900',\n",
              "  '₹41,999',\n",
              "  '₹47,900',\n",
              "  '₹46,999',\n",
              "  '₹52,900',\n",
              "  '₹55,999',\n",
              "  '₹59,900',\n",
              "  '₹55,999',\n",
              "  '₹59,900',\n",
              "  '₹50,999',\n",
              "  '₹54,900',\n",
              "  '₹56,999',\n",
              "  '₹59,900',\n",
              "  '₹72,999',\n",
              "  '₹84,900',\n",
              "  '₹46,999',\n",
              "  '₹52,900',\n",
              "  '₹72,999',\n",
              "  '₹84,900',\n",
              "  '₹42,999',\n",
              "  '₹47,900',\n",
              "  '₹14,499',\n",
              "  '₹24,999',\n",
              "  '₹14,499',\n",
              "  '₹24,999'],\n",
              " 'rule_6gov': ['36,781', '235'],\n",
              " 'rule_6pd6': ['36,781',\n",
              "  '1,008',\n",
              "  '235',\n",
              "  '235',\n",
              "  '36,781',\n",
              "  '36,781',\n",
              "  '36,781',\n",
              "  '36,781',\n",
              "  '5,526',\n",
              "  '235',\n",
              "  '5,526',\n",
              "  '235'],\n",
              " 'rule_d8em': ['36,781', '235'],\n",
              " 'rule_dfna': ['New Apple iPhone 11 (64GB) - Purple',\n",
              "  'Apple iPhone XR (64GB) - Black'],\n",
              " 'rule_fngl': ['New Apple iPhone 11 (64GB) - Purple',\n",
              "  'Apple iPhone XR (64GB) - Black'],\n",
              " 'rule_gly7': ['36,781',\n",
              "  '1,008',\n",
              "  '235',\n",
              "  '235',\n",
              "  '36,781',\n",
              "  '36,781',\n",
              "  '36,781',\n",
              "  '36,781',\n",
              "  '5,526',\n",
              "  '235',\n",
              "  '5,526',\n",
              "  '235'],\n",
              " 'rule_h8ah': ['36,781',\n",
              "  '1,008',\n",
              "  '235',\n",
              "  '235',\n",
              "  '36,781',\n",
              "  '36,781',\n",
              "  '36,781',\n",
              "  '36,781',\n",
              "  '5,526',\n",
              "  '235',\n",
              "  '5,526',\n",
              "  '235'],\n",
              " 'rule_jwtg': ['₹50,999',\n",
              "  '₹54,900',\n",
              "  '₹1,18,999',\n",
              "  '₹1,29,900',\n",
              "  '₹41,999',\n",
              "  '₹47,900',\n",
              "  '₹46,999',\n",
              "  '₹52,900',\n",
              "  '₹55,999',\n",
              "  '₹59,900',\n",
              "  '₹55,999',\n",
              "  '₹59,900',\n",
              "  '₹50,999',\n",
              "  '₹54,900',\n",
              "  '₹56,999',\n",
              "  '₹59,900',\n",
              "  '₹72,999',\n",
              "  '₹84,900',\n",
              "  '₹46,999',\n",
              "  '₹52,900',\n",
              "  '₹72,999',\n",
              "  '₹84,900',\n",
              "  '₹42,999',\n",
              "  '₹47,900',\n",
              "  '₹14,499',\n",
              "  '₹24,999',\n",
              "  '₹14,499',\n",
              "  '₹24,999'],\n",
              " 'rule_nv4y': ['New Apple iPhone 11 (64GB) - Purple',\n",
              "  'Apple iPhone XR (64GB) - Black'],\n",
              " 'rule_p1xm': ['36,781',\n",
              "  '1,008',\n",
              "  '235',\n",
              "  '235',\n",
              "  '36,781',\n",
              "  '36,781',\n",
              "  '36,781',\n",
              "  '36,781',\n",
              "  '5,526',\n",
              "  '235',\n",
              "  '5,526',\n",
              "  '235'],\n",
              " 'rule_scb4': ['₹50,999', '₹54,900', '₹41,999', '₹47,900'],\n",
              " 'rule_ug2w': ['₹50,999',\n",
              "  '₹54,900',\n",
              "  '₹1,18,999',\n",
              "  '₹1,29,900',\n",
              "  '₹41,999',\n",
              "  '₹47,900',\n",
              "  '₹46,999',\n",
              "  '₹52,900',\n",
              "  '₹55,999',\n",
              "  '₹59,900',\n",
              "  '₹55,999',\n",
              "  '₹59,900',\n",
              "  '₹50,999',\n",
              "  '₹54,900',\n",
              "  '₹56,999',\n",
              "  '₹59,900',\n",
              "  '₹72,999',\n",
              "  '₹84,900',\n",
              "  '₹46,999',\n",
              "  '₹52,900',\n",
              "  '₹72,999',\n",
              "  '₹84,900',\n",
              "  '₹42,999',\n",
              "  '₹47,900',\n",
              "  '₹14,499',\n",
              "  '₹24,999',\n",
              "  '₹14,499',\n",
              "  '₹24,999'],\n",
              " 'rule_uzio': ['₹50,999', '₹54,900', '₹41,999', '₹47,900'],\n",
              " 'rule_vems': ['36,781',\n",
              "  '1,008',\n",
              "  '235',\n",
              "  '235',\n",
              "  '36,781',\n",
              "  '36,781',\n",
              "  '36,781',\n",
              "  '36,781',\n",
              "  '5,526',\n",
              "  '235',\n",
              "  '5,526',\n",
              "  '235'],\n",
              " 'rule_xqma': ['₹50,999',\n",
              "  '₹54,900',\n",
              "  '₹1,18,999',\n",
              "  '₹1,29,900',\n",
              "  '₹41,999',\n",
              "  '₹47,900',\n",
              "  '₹46,999',\n",
              "  '₹52,900',\n",
              "  '₹55,999',\n",
              "  '₹59,900',\n",
              "  '₹55,999',\n",
              "  '₹59,900',\n",
              "  '₹50,999',\n",
              "  '₹54,900',\n",
              "  '₹56,999',\n",
              "  '₹59,900',\n",
              "  '₹72,999',\n",
              "  '₹84,900',\n",
              "  '₹46,999',\n",
              "  '₹52,900',\n",
              "  '₹72,999',\n",
              "  '₹84,900',\n",
              "  '₹42,999',\n",
              "  '₹47,900',\n",
              "  '₹14,499',\n",
              "  '₹24,999',\n",
              "  '₹14,499',\n",
              "  '₹24,999'],\n",
              " 'rule_ymhb': ['₹50,999', '₹54,900', '₹41,999', '₹47,900']}"
            ]
          },
          "metadata": {},
          "execution_count": 5
        }
      ]
    },
    {
      "cell_type": "code",
      "metadata": {
        "id": "CnNwbCq9mOHy"
      },
      "source": [
        "scraper.set_rule_aliases({'rule_nv4y':'Title','rule_ymhb':'Price'})\n",
        "scraper.keep_rules(['rule_nv4y','rule_ymhb'])\n",
        "scraper.save('amezon-search')"
      ],
      "execution_count": null,
      "outputs": []
    },
    {
      "cell_type": "code",
      "metadata": {
        "id": "3MI3BJsXmuLH"
      },
      "source": [
        "results=scraper.get_result_similar('https://www.amazon.in/s?k=mi+phones+under+15000&ref=nb_sb_noss_1',group_by_alias=True)"
      ],
      "execution_count": null,
      "outputs": []
    },
    {
      "cell_type": "code",
      "metadata": {
        "colab": {
          "base_uri": "https://localhost:8080/"
        },
        "id": "vwm5kLzYoTW-",
        "outputId": "7f07bac0-5f92-42f2-89bf-fa1cdbb84d4d"
      },
      "source": [
        "results"
      ],
      "execution_count": null,
      "outputs": [
        {
          "output_type": "execute_result",
          "data": {
            "text/plain": [
              "{'Price': ['₹11,990', '₹14,999', '₹12,499', '₹13,999', '₹7,299', '₹8,999'],\n",
              " 'Title': ['Nokia G20 Smartphone, Dual SIM 4G, 4GB RAM/64GB Storage, 48MP Quad Camera with 6.5” (16.51 cm) Screen | Silver',\n",
              "  'Tecno Spark 7 Pro (Alps Blue, 6GB RAM 64GB Storage)',\n",
              "  'Tecno Spark Go 2021 (Maldives Blue, 2GB RAM, 32GB Storage) | 5000mAh| 6.52\" Display Smartphone']}"
            ]
          },
          "metadata": {},
          "execution_count": 10
        }
      ]
    }
  ]
}